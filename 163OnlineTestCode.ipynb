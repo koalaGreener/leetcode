{
 "cells": [
  {
   "cell_type": "code",
   "execution_count": 117,
   "metadata": {
    "collapsed": false
   },
   "outputs": [
    {
     "name": "stdout",
     "output_type": "stream",
     "text": [
      "0000 - 0000 = 0000\n"
     ]
    }
   ],
   "source": [
    "def func(num = 0000):\n",
    "    \n",
    "    if num % 1111 == 0:\n",
    "        print(\"%04.d - %04.d = 0000\" % (num,num)) \n",
    "        return\n",
    "    a = num % 10\n",
    "    num = int(num / 10)\n",
    "    b = num % 10\n",
    "    num = int(num / 10)\n",
    "    c = num % 10\n",
    "    num = int(num / 10)\n",
    "    d = num % 10\n",
    "    \n",
    "    list1 = [a,b,c,d]\n",
    "    list1.sort()\n",
    "\n",
    "    small = list1[0] * 1000 + list1[1] * 100 + list1[2] * 10 + list1[3] \n",
    "    large = list1[3] * 1000 + list1[2] * 100 + list1[1] * 10 + list1[0] \n",
    "\n",
    "    print(\"%04.d - %04.d = %d\" % (large,small,large-small)) \n",
    "    \n",
    "    if(large-small == 6174):\n",
    "        return\n",
    "    else:\n",
    "        func(large-small)\n",
    "    \n",
    "func()\n",
    "\n"
   ]
  },
  {
   "cell_type": "code",
   "execution_count": null,
   "metadata": {
    "collapsed": true
   },
   "outputs": [],
   "source": [
    "import sys\n",
    "try: \n",
    "    while True:\n",
    "    line = sys.stdin.readline().strip()\n",
    "        if line == '':\n",
    "            break \n",
    "        lines = line.split()\n",
    "        print int(lines[0]) + int(lines[1])\n",
    "except: \n",
    "    pass\n",
    "\n",
    "\n"
   ]
  },
  {
   "cell_type": "code",
   "execution_count": null,
   "metadata": {
    "collapsed": false
   },
   "outputs": [],
   "source": [
    "import sys \n",
    "for line in sys.stdin:\n",
    "    if (len(line) < 2):\n",
    "        num = line.split()\n",
    "    else:\n",
    "        inputList = line.split()\n",
    "        a = int(inputList[0])\n",
    "        b = int(inputList[1])\n",
    "        c = int(inputList[2])\n",
    "        d = int(inputList[3])\n",
    "\n",
    "fuc(num,a,b,c,d)\n",
    "    \n",
    "    \n",
    "    "
   ]
  },
  {
   "cell_type": "code",
   "execution_count": 140,
   "metadata": {
    "collapsed": false
   },
   "outputs": [
    {
     "name": "stdout",
     "output_type": "stream",
     "text": [
      "3\n"
     ]
    }
   ],
   "source": [
    "def fuc(num = 4 ,a = 7,b =15 ,c = 9 ,d = 5):\n",
    "    count = 0\n",
    "    overall = a + b + c + d\n",
    "    #print(overall)\n",
    "    if overall % num != 0:\n",
    "        print(\"-1\")\n",
    "        return\n",
    "    avg = overall // num\n",
    "    #print(avg)\n",
    "    if a > avg and (a - avg) % 2 != 0:\n",
    "        print(\"-1\")\n",
    "        return\n",
    "    elif a <= avg and (avg - a ) %2 == 0:\n",
    "        count = count + (avg - a )// 2\n",
    "    \n",
    "    if b > avg and (b - avg) % 2 != 0:\n",
    "        print(\"-1\")\n",
    "        return\n",
    "    elif b <= avg and (avg - b ) %2 == 0:\n",
    "        count = count + (avg - b )// 2\n",
    "    \n",
    "    if c > avg and (c - avg) % 2 != 0:\n",
    "        print(\"-1\")\n",
    "        return\n",
    "    elif c <= avg and (avg - c ) %2 == 0:\n",
    "        count = count + (avg - c )// 2\n",
    "\n",
    "    if d > avg and (d - avg) % 2 != 0:\n",
    "        print(\"-1\")\n",
    "        return\n",
    "    elif d <= avg and (avg - d ) %2 == 0:\n",
    "        count = count + (avg - d )// 2\n",
    "    \n",
    "    print(count)\n",
    "    \n",
    "fuc()   "
   ]
  },
  {
   "cell_type": "code",
   "execution_count": 150,
   "metadata": {
    "collapsed": false
   },
   "outputs": [
    {
     "name": "stdout",
     "output_type": "stream",
     "text": [
      "['2', '3', '4', '4']\n",
      "13\n"
     ]
    }
   ],
   "source": [
    "line = \"2 3 4 4\" \n",
    "inputList = line.split()\n",
    "print(inputList)\n",
    "sumof = 0\n",
    "for num in inputList:\n",
    "    sumof = sumof + int(num)\n",
    "print(sumof)\n",
    "    \n",
    "\n"
   ]
  },
  {
   "cell_type": "code",
   "execution_count": 154,
   "metadata": {
    "collapsed": false
   },
   "outputs": [
    {
     "name": "stdout",
     "output_type": "stream",
     "text": [
      "-1\n"
     ]
    }
   ],
   "source": [
    "def fuc(num = 4 ,inputList = ['9', '21', '9', '9']):\n",
    "    count = 0\n",
    "    overall = 0\n",
    "    for inputnumber in inputList:\n",
    "        overall = overall + int(inputnumber)\n",
    "\n",
    "    #print(overall)\n",
    "    if overall % num != 0:\n",
    "        print(\"-1\")\n",
    "        return\n",
    "    avg = overall // num\n",
    "    #print(avg)\n",
    "    \n",
    "    for num in inputList:\n",
    "        a = int(num)\n",
    "        if a > avg and (a - avg) % 2 != 0:\n",
    "            print(\"-1\")\n",
    "            return\n",
    "        elif a <= avg and (avg - a ) %2 == 0:\n",
    "            count = count + (avg - a )// 2\n",
    "\n",
    "    print(count)\n",
    "    \n",
    "fuc()   "
   ]
  },
  {
   "cell_type": "code",
   "execution_count": 156,
   "metadata": {
    "collapsed": false
   },
   "outputs": [
    {
     "name": "stdout",
     "output_type": "stream",
     "text": [
      "3\n"
     ]
    }
   ],
   "source": [
    "a = 10\n",
    "b = pow(10,0.5)\n",
    "print(int(b))\n",
    "\n",
    "if (b*b + b <= a):\n",
    "    print(b)\n",
    "else:\n",
    "    b= b - 1\n",
    "    \n",
    "\n"
   ]
  },
  {
   "cell_type": "code",
   "execution_count": 176,
   "metadata": {
    "collapsed": false
   },
   "outputs": [
    {
     "name": "stdout",
     "output_type": "stream",
     "text": [
      "1\n"
     ]
    }
   ],
   "source": [
    "line = \"1\"\n",
    "num = int(line.split()[0])\n",
    "print(num)"
   ]
  },
  {
   "cell_type": "code",
   "execution_count": 178,
   "metadata": {
    "collapsed": false
   },
   "outputs": [
    {
     "name": "stdout",
     "output_type": "stream",
     "text": [
      "3\n"
     ]
    }
   ],
   "source": [
    "inputList = ['1','2','3']\n",
    "overall = 0\n",
    "for inputnumber in inputList:\n",
    "    overall = overall + int(inputnumber)\n",
    "print (overall)"
   ]
  },
  {
   "cell_type": "code",
   "execution_count": 182,
   "metadata": {
    "collapsed": false
   },
   "outputs": [
    {
     "name": "stdout",
     "output_type": "stream",
     "text": [
      "-1\n",
      "0\n"
     ]
    }
   ],
   "source": [
    "avg =2 \n",
    "count = 0\n",
    "inputList = ['1','2','3']\n",
    "for num in inputList:\n",
    "    a = int(num)\n",
    "    if a > avg and (a - avg) % 2 != 0:\n",
    "        print(\"-1\")\n",
    "        break\n",
    "    elif a <= avg and (avg - a ) %2 == 0:\n",
    "        count = count + (avg - a )// 2\n",
    "print(count)"
   ]
  },
  {
   "cell_type": "code",
   "execution_count": null,
   "metadata": {
    "collapsed": true
   },
   "outputs": [],
   "source": []
  }
 ],
 "metadata": {
  "kernelspec": {
   "display_name": "Python 3",
   "language": "python",
   "name": "python3"
  },
  "language_info": {
   "codemirror_mode": {
    "name": "ipython",
    "version": 3
   },
   "file_extension": ".py",
   "mimetype": "text/x-python",
   "name": "python",
   "nbconvert_exporter": "python",
   "pygments_lexer": "ipython3",
   "version": "3.5.1"
  }
 },
 "nbformat": 4,
 "nbformat_minor": 0
}
